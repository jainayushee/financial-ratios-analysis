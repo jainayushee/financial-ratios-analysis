{
 "cells": [
  {
   "cell_type": "markdown",
   "id": "239bb377b4f903b9",
   "metadata": {
    "collapsed": false
   },
   "source": [
    "# Financial statement analysis using Python\n",
    "\n",
    "Create a financial statement analysis of a S&P 500 company using Python and Yahoo Finance data.\n",
    "\n",
    "1. Select a company and extract the following data from Yahoo Finance:\n",
    "    - Balance sheet\n",
    "    - Income statement\n",
    "    - Cash flow\n",
    "\n",
    "Calculate the following ratios for the last four business years:\n",
    "\n",
    "2. Profitability Ratios:\n",
    "    - Gross Profit Margin\n",
    "    - Net Profit Margin\n",
    "    - Return on Equity\n",
    "\n",
    "3. Efficiency Ratios:\n",
    "    - Inventory Turnover\n",
    "    - Receivables Turnover\n",
    "    - Asset Turnover\n",
    "    - Payables Turnover\n",
    "\n",
    "4. Solvency Ratios:\n",
    "    - Debt to Equity Ratio\n",
    "    - Equity Ratio\n",
    "    - Debt Ratio\n",
    "    - Interest Coverage Ratio\n",
    "    \n",
    "5. Liquidity Ratios:\n",
    "    - Current Ratio\n",
    "    - Quick Ratio\n",
    "    - Cash Conversion Cycle\n",
    "    - Operating Cash Flow Ratio\n",
    "\n",
    "Based on the calculated ratios, write a short analysis of the companies performance. Support your analysis using at least 2 but not more than 4 plots. Your analysis should highlight one potential area of improvement in the balance sheet.\n",
    "\n",
    "Your assignment will be graded based on the following criteria:\n",
    "- The readability and structure of your code.\n",
    "- Your code could be easily run for a different company or different financial year.\n",
    "- The quality of your plots and analysis.\n",
    "\n",
    "Please use **only** Python for this exercise and do not download the data manually (download it in your code). \n",
    "For each metric calculated, please write the formula used as an inline comment or in markdown. If you are not sure how a certain ratio is defined, please write a comment with your train of thought.\n",
    "There is no need to write comments for simple code operations. However, if you use any \"tricks\" or unusual features in your code, please use an inline comment. "
   ]
  },
  {
   "cell_type": "markdown",
   "id": "b11babbb6f17a22e",
   "metadata": {
    "collapsed": false
   },
   "source": [
    "# "
   ]
  },
  {
   "cell_type": "code",
   "execution_count": 31,
   "metadata": {},
   "outputs": [],
   "source": [
    "import yfinance as yf\n",
    "nvidia_data = yf.Ticker(\"NVDA\")\n",
    "\n",
    "income_sheet = nvidia_data.income_stmt\n",
    "balance_sheet = nvidia_data.balance_sheet\n",
    "cashflow = nvidia_data.cashflow"
   ]
  },
  {
   "cell_type": "code",
   "execution_count": 32,
   "metadata": {},
   "outputs": [
    {
     "name": "stdout",
     "output_type": "stream",
     "text": [
      "Gross Profit Margin:\n",
      "2023-01-31    56.928894\n",
      "2022-01-31    64.929033\n",
      "2021-01-31    62.344828\n",
      "2020-01-31    61.989375\n",
      "dtype: object\n",
      "Net Profit Margin:\n",
      "2023-01-31    16.193371\n",
      "2022-01-31     36.23393\n",
      "2021-01-31     25.97901\n",
      "2020-01-31    25.609086\n",
      "dtype: object\n",
      "ROE:\n",
      "2023-01-31    19.763812\n",
      "2022-01-31    36.645123\n",
      "2021-01-31    25.643758\n",
      "2020-01-31    22.910521\n",
      "dtype: object\n"
     ]
    }
   ],
   "source": [
    "# Profitability Ratios\n",
    "\n",
    "# Gross Profit Margin = (Gross Profit / Revenue)\n",
    "gross_profit_margin = (\n",
    "    income_sheet.loc[\"Gross Profit\"] / income_sheet.loc[\"Total Revenue\"] * 100\n",
    ")\n",
    "print(\"Gross Profit Margin:\\n\" + str(gross_profit_margin))\n",
    "\n",
    "# Net Profit Margin = (Net Income / Revenue)\n",
    "net_profit_margin = (\n",
    "    income_sheet.loc[\"Net Income\"] / income_sheet.loc[\"Total Revenue\"] * 100\n",
    ")\n",
    "print(\"Net Profit Margin:\\n\" + str(net_profit_margin))\n",
    "\n",
    "# ROE = (Net Income / Average Shareholders' Equity)\n",
    "return_on_equity = (\n",
    "    income_sheet.loc[\"Net Income\"] / balance_sheet.loc[\"Stockholders Equity\"] * 100\n",
    ")\n",
    "print(\"ROE:\\n\" + str(return_on_equity))"
   ]
  },
  {
   "cell_type": "code",
   "execution_count": 33,
   "metadata": {},
   "outputs": [
    {
     "name": "stdout",
     "output_type": "stream",
     "text": [
      "Inventory Turnover:\n",
      "2023-01-31    2.251987\n",
      "2022-01-31    3.623417\n",
      "2021-01-31    3.438664\n",
      "2020-01-31    4.239019\n",
      "dtype: object\n",
      "Receivables Turnover:\n",
      "2023-01-31    NaN\n",
      "2022-01-31    NaN\n",
      "2021-01-31    NaN\n",
      "2020-01-31    NaN\n",
      "dtype: object\n",
      "Asset Turnover:\n",
      "2023-01-31    0.654995\n",
      "2022-01-31    0.609093\n",
      "2021-01-31    0.579174\n",
      "2020-01-31    0.630552\n",
      "dtype: object\n",
      "Payables Turnover:\n",
      "2023-01-31    9.738474\n",
      "2022-01-31    5.293887\n",
      "2021-01-31    5.228143\n",
      "2020-01-31    6.040757\n",
      "dtype: object\n"
     ]
    }
   ],
   "source": [
    "# Efficiency Ratios\n",
    "\n",
    "# Inventory Turnover = Cost of Goods Sold / Average Inventory\n",
    "inventory_turnover = income_sheet.loc[\"Cost Of Revenue\"] / balance_sheet.loc[\"Inventory\"]\n",
    "print(\"Inventory Turnover:\\n\" + str(inventory_turnover))\n",
    "\n",
    "# Receivables Turnover = Net Credit Sales / Average Accounts Receivable\n",
    "accounts_receviable = balance_sheet.loc[\"Accounts Receivable\"] - balance_sheet.loc[\"Allowance For Doubtful Accounts Receivable\"]\n",
    "net_credit_sales = income_sheet.loc[\"Total Revenue\"] - income_sheet.loc[\"Total Unusual Items\"] - income_sheet.loc[\"Special Income Charges\"] - income_sheet.loc[\"Other Income Expense\"]\n",
    "receivables_turnover = net_credit_sales / accounts_receviable\n",
    "print(\"Receivables Turnover:\\n\" + str(receivables_turnover))\n",
    "\n",
    "# Asset Turnover = Revenue / Average Total Assets\n",
    "asset_turnover = income_sheet.loc[\"Total Revenue\"] / balance_sheet.loc[\"Total Assets\"]\n",
    "print(\"Asset Turnover:\\n\" + str(asset_turnover))\n",
    "\n",
    "# Payables Turnover = Cost of Goods Sold / Average Accounts Payable\n",
    "payables_turnover = income_sheet.loc[\"Cost Of Revenue\"]  / balance_sheet.loc[\"Accounts Payable\"]\n",
    "print(\"Payables Turnover:\\n\" + str(payables_turnover))"
   ]
  },
  {
   "cell_type": "code",
   "execution_count": 36,
   "metadata": {},
   "outputs": [
    {
     "name": "stdout",
     "output_type": "stream",
     "text": [
      "Debt to Equity Ratio:\n",
      "2023-01-31    0.536401\n",
      "2022-01-31    0.439163\n",
      "2021-01-31    0.449713\n",
      "2020-01-31    0.209112\n",
      "dtype: object\n",
      "Equity Ratio:\n",
      "2023-01-31    0.536667\n",
      "2022-01-31    0.602259\n",
      "2021-01-31    0.586746\n",
      "2020-01-31    0.704822\n",
      "dtype: object\n",
      "Debt Ratio:\n",
      "2023-01-31    0.287868\n",
      "2022-01-31     0.26449\n",
      "2021-01-31    0.263867\n",
      "2020-01-31    0.147387\n",
      "dtype: object\n",
      "Interest Coverage Ratio:\n",
      "2023-01-31    16.958015\n",
      "2022-01-31    43.122881\n",
      "2021-01-31    24.961957\n",
      "2020-01-31    58.115385\n",
      "dtype: object\n"
     ]
    }
   ],
   "source": [
    "# Solvency Ratios\n",
    "\n",
    "# Debt to Equity Ratio = Total Debt / Shareholders' Equity\n",
    "debt_to_equity_ratio = balance_sheet.loc['Total Debt'] / balance_sheet.loc[\"Stockholders Equity\"] \n",
    "print(\"Debt to Equity Ratio:\\n\" + str(debt_to_equity_ratio))\n",
    "\n",
    "# Equity Ratio = Shareholders’ Equity / Total Assets\n",
    "equity_ratio = balance_sheet.loc[\"Stockholders Equity\"] / balance_sheet.loc['Total Assets']\n",
    "print(\"Equity Ratio:\\n\"+ str(equity_ratio))\n",
    "\n",
    "# Debt Ratio = Total Debt / Total Assets\n",
    "debt_ratio = balance_sheet.loc['Total Debt'] / balance_sheet.loc['Total Assets']\n",
    "print(\"Debt Ratio:\\n\" + str(debt_ratio))\n",
    "\n",
    "# Interest Coverage Ratio = EBIT / Interest Expense\n",
    "interest_coverage_ratio = income_sheet.loc['EBIT'] / income_sheet.loc['Interest Expense']\n",
    "print(\"Interest Coverage Ratio:\\n\" + str(interest_coverage_ratio))"
   ]
  },
  {
   "cell_type": "code",
   "execution_count": 37,
   "metadata": {},
   "outputs": [
    {
     "name": "stdout",
     "output_type": "stream",
     "text": [
      "Current Ratio:\n",
      "2023-01-31    3.515618\n",
      "2022-01-31    6.650288\n",
      "2021-01-31    4.090446\n",
      "2020-01-31    7.673767\n",
      "dtype: object\n",
      "Quick Ratio:\n",
      "2023-01-31    2.729544\n",
      "2022-01-31    6.049366\n",
      "2021-01-31    3.625223\n",
      "2020-01-31       7.125\n",
      "dtype: object\n",
      "CCC:\n",
      "2023-01-31    176.384136\n",
      "2022-01-31     94.848181\n",
      "2021-01-31     89.499938\n",
      "2020-01-31     81.077147\n",
      "dtype: object\n",
      "Operating Cash Flow:\n",
      "2023-01-31    0.859515\n",
      "2022-01-31    2.101038\n",
      "2021-01-31    1.483312\n",
      "2020-01-31    2.668722\n",
      "dtype: object\n"
     ]
    }
   ],
   "source": [
    "# Liquidity Ratios\n",
    "\n",
    "# Current Ratio = Current Assets / Current Liabilities\n",
    "current_ratio = balance_sheet.loc['Current Assets'] / balance_sheet.loc['Current Liabilities']\n",
    "print(\"Current Ratio:\\n\" + str(current_ratio))\n",
    "\n",
    "# Quick Ratio = (Current Assets - Inventory) / Current Liabilities\n",
    "quick_ratio = (balance_sheet.loc['Current Assets'] - balance_sheet.loc[\"Inventory\"]) / balance_sheet.loc['Current Liabilities']\n",
    "print(\"Quick Ratio:\\n\" + str(quick_ratio))\n",
    "\n",
    "# CCC=Days Inventory Outstanding (DIO)+Days Sales Outstanding (DSO)−Days Payable Outstanding (DPO)\n",
    "# DIO= Average Inventory/Cost of Goods Sold (COGS)/Days in Period\n",
    "# DSO= Accounts Receivable/ Net Credit Sales/Days in Period\n",
    "# DPO= Accounts Payable/ Cost of Goods Sold (COGS)/Days in Period​\n",
    "payables = balance_sheet.loc['Accounts Payable']\n",
    "average_receivable_collection_period = balance_sheet.loc[\"Accounts Receivable\"] / (income_sheet.loc[\"Total Revenue\"] / 365)\n",
    "average_inventory_processing_period = balance_sheet.loc[\"Inventory\"] / (income_sheet.loc[\"Cost Of Revenue\"]  / 365)\n",
    "average_payables_payment_period = payables / (income_sheet.loc[\"Cost Of Revenue\"]  / 365)\n",
    "\n",
    "cash_conversion_cycle = average_receivable_collection_period + average_inventory_processing_period - average_payables_payment_period\n",
    "\n",
    "print(\"CCC:\\n\" + str(cash_conversion_cycle))\n",
    "\n",
    "# Operating Cash Flow = Operating Cash Flow / Current Liabilities\n",
    "operating_cash_flow = cashflow.loc[\"Operating Cash Flow\"] / balance_sheet.loc[\"Current Liabilities\"]\n",
    "print(\"Operating Cash Flow:\\n\" + str(operating_cash_flow))"
   ]
  }
 ],
 "metadata": {
  "kernelspec": {
   "display_name": "Python 3",
   "language": "python",
   "name": "python3"
  },
  "language_info": {
   "codemirror_mode": {
    "name": "ipython",
    "version": 3
   },
   "file_extension": ".py",
   "mimetype": "text/x-python",
   "name": "python",
   "nbconvert_exporter": "python",
   "pygments_lexer": "ipython3",
   "version": "3.11.4"
  }
 },
 "nbformat": 4,
 "nbformat_minor": 5
}
